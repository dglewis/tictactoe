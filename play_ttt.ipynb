{
 "cells": [
  {
   "cell_type": "code",
   "execution_count": 1,
   "metadata": {},
   "outputs": [],
   "source": [
    "from IPython.display import clear_output"
   ]
  },
  {
   "cell_type": "code",
   "execution_count": 2,
   "metadata": {},
   "outputs": [],
   "source": [
    "player_types = ('X', 'O')"
   ]
  },
  {
   "cell_type": "code",
   "execution_count": null,
   "outputs": [],
   "source": [
    "def show_grid(grid):\n",
    "    print('| ' + grid[0] + ' | ' + grid[1] + ' | ' + grid[2] + ' |')\n",
    "    print(\"___\"*4)\n",
    "    print('| ' + grid[3] + ' | ' + grid[4] + ' | ' + grid[5] + ' |')\n",
    "    print(\"___\"*4)\n",
    "    print('| ' + grid[6] + ' | ' + grid[7] + ' | ' + grid[8] + ' |')"
   ],
   "metadata": {
    "collapsed": false,
    "pycharm": {
     "name": "#%%\n"
    }
   }
  },
  {
   "cell_type": "code",
   "execution_count": 3,
   "metadata": {},
   "outputs": [],
   "source": [
    "def validate_input(input, allowable_values):\n",
    "    #print(input, allowable_values)\n",
    "    if input in allowable_values:\n",
    "        return input\n",
    "    else:\n",
    "        print(str(input) + \" is invalid!\")\n",
    "        return False\n",
    "        "
   ]
  },
  {
   "cell_type": "code",
   "execution_count": 4,
   "metadata": {},
   "outputs": [],
   "source": [
    "def choose_player_type():\n",
    "    return str(input(\"Player One, choose X's or O's: \")).upper()"
   ]
  },
  {
   "cell_type": "code",
   "execution_count": 5,
   "metadata": {},
   "outputs": [
    {
     "name": "stdout",
     "output_type": "stream",
     "text": [
      "B is invalid!\n",
      "False\n"
     ]
    }
   ],
   "source": [
    "player_one = validate_input(choose_player_type(), player_types)\n",
    "print(player_one)"
   ]
  },
  {
   "cell_type": "code",
   "execution_count": 25,
   "metadata": {},
   "outputs": [
    {
     "name": "stdout",
     "output_type": "stream",
     "text": [
      "Ran out of tries.\n"
     ]
    }
   ],
   "source": [
    "attempts = 0\n",
    "while attempts < 3:\n",
    "    try:\n",
    "        player_one = validate_input(choose_player_type(), player_types)\n",
    "        if player_one == 'X':\n",
    "            player_two = 'O'\n",
    "        else:\n",
    "            player_two = 'X'\n",
    "            print('Player One is ' + player_one + '\\'s and Player Two is ' + player_two + '\\'s!')\n",
    "        break\n",
    "    except:\n",
    "        attempts += 1\n",
    "        print(\"Wrong, try again! Choose either X or O (\" + str(attempts) + \")\")\n",
    "        player_one = None\n",
    "    finally:\n",
    "        print(\"Ran out of tries.\")"
   ]
  },
  {
   "cell_type": "code",
   "execution_count": 8,
   "metadata": {},
   "outputs": [
    {
     "name": "stdout",
     "output_type": "stream",
     "text": [
      "| 0 | 1 | 2 |\n",
      "____________\n",
      "| 3 | 4 | 5 |\n",
      "____________\n",
      "| 6 | 7 | 8 |\n"
     ]
    }
   ],
   "source": [
    "grid = ['0','1','2','3','4','5','6','7','8']\n",
    "show_grid(grid)\n"
   ]
  },
  {
   "cell_type": "code",
   "execution_count": 26,
   "metadata": {},
   "outputs": [
    {
     "name": "stdout",
     "output_type": "stream",
     "text": [
      "5\n"
     ]
    }
   ],
   "source": [
    "position = int(input(\"Choose a position: \"))\n",
    "print(position)"
   ]
  },
  {
   "cell_type": "code",
   "execution_count": null,
   "metadata": {},
   "outputs": [],
   "source": [
    "grid[position] = 'X' \n",
    "show_grid(grid)"
   ]
  },
  {
   "cell_type": "code",
   "execution_count": null,
   "metadata": {},
   "outputs": [],
   "source": [
    "clear_output()"
   ]
  },
  {
   "cell_type": "code",
   "execution_count": null,
   "metadata": {},
   "outputs": [],
   "source": []
  }
 ],
 "metadata": {
  "kernelspec": {
   "display_name": "Python 3.7.1 64-bit ('anaconda3': virtualenv)",
   "language": "python",
   "name": "python37164bitanaconda3virtualenvf19869952b1d49b1bbfd74c92b86724c"
  },
  "language_info": {
   "codemirror_mode": {
    "name": "ipython",
    "version": 3
   },
   "file_extension": ".py",
   "mimetype": "text/x-python",
   "name": "python",
   "nbconvert_exporter": "python",
   "pygments_lexer": "ipython3",
   "version": "3.7.1"
  }
 },
 "nbformat": 4,
 "nbformat_minor": 2
}